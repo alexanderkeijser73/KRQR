{
 "cells": [
  {
   "cell_type": "code",
   "execution_count": 1,
   "metadata": {
    "collapsed": false
   },
   "outputs": [
    {
     "ename": "SyntaxError",
     "evalue": "invalid syntax (CausalModel.py, line 109)",
     "output_type": "error",
     "traceback": [
      "\u001b[0;36m  File \u001b[0;32m\"/Users/Alexander/Documents/master_ai/kr/projecten/3/KRQR/CausalModel.py\"\u001b[0;36m, line \u001b[0;32m109\u001b[0m\n\u001b[0;31m    nextStates = [{**i,**j} for i in nextStates for j in nextStatesPerQt]\u001b[0m\n\u001b[0m                    ^\u001b[0m\n\u001b[0;31mSyntaxError\u001b[0m\u001b[0;31m:\u001b[0m invalid syntax\n"
     ]
    }
   ],
   "source": [
    "from CausalModel import *\n",
    "from copy import deepcopy\n",
    "\n",
    "tap = Entity(\"Tap\")\n",
    "inf = Quantity(\"Inflow\", 'zp')\n",
    "tap.addQuantity(inf)\n",
    "sink = Entity(\"Sink\")\n",
    "ouf = Quantity(\"Outflow\")\n",
    "sink.addQuantity(ouf)\n",
    "cont = Entity(\"Container\")\n",
    "vol = Quantity(\"Volume\")\n",
    "cont.addQuantity(vol)\n",
    "sys = CausalModel(\"System\", [tap, sink, cont])\n",
    "sys.addRel(inf,'i+', vol)\n",
    "sys.addRel(ouf, 'i-', vol)\n",
    "sys.addRel(vol, 'p+', ouf)\n",
    "sys.addVC(vol,0,ouf,1)\n",
    "sys.setState([(inf,1,1), (ouf,0,1), (vol,1,1)])\n",
    "sys.getState()\n",
    "\n",
    "sys.nextStates()\n"
   ]
  },
  {
   "cell_type": "code",
   "execution_count": null,
   "metadata": {
    "collapsed": false
   },
   "outputs": [],
   "source": [
    "print(vol.val)\n",
    "# vol_new.increaseValue()"
   ]
  },
  {
   "cell_type": "code",
   "execution_count": null,
   "metadata": {
    "collapsed": true
   },
   "outputs": [],
   "source": []
  }
 ],
 "metadata": {
  "kernelspec": {
   "display_name": "Python 3",
   "language": "python",
   "name": "python3"
  },
  "language_info": {
   "codemirror_mode": {
    "name": "ipython",
    "version": 3
   },
   "file_extension": ".py",
   "mimetype": "text/x-python",
   "name": "python",
   "nbconvert_exporter": "python",
   "pygments_lexer": "ipython3",
   "version": "3.4.4"
  }
 },
 "nbformat": 4,
 "nbformat_minor": 0
}
