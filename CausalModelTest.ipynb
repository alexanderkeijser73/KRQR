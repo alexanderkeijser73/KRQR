{
 "cells": [
  {
   "cell_type": "code",
   "execution_count": 5,
   "metadata": {
    "collapsed": false
   },
   "outputs": [
    {
     "data": {
      "text/plain": [
       "defaultdict(list,\n",
       "            {'Inflow': [('i+', 'Volume')],\n",
       "             'Outflow': [('i-', 'Volume'), ('p-', 'Inflow')]})"
      ]
     },
     "execution_count": 5,
     "metadata": {},
     "output_type": "execute_result"
    }
   ],
   "source": [
    "from CausalModel import *\n",
    "\n",
    "tap = Entity(\"Tap\")\n",
    "inf = Quantity(\"Inflow\", 'zp')\n",
    "tap.addQuantity(inf)\n",
    "sink = Entity(\"Sink\")\n",
    "vol = Quantity(\"Volume\")\n",
    "sink.addQuantity(vol)\n",
    "drn = Entity(\"Drain\")\n",
    "ouf = Quantity(\"Outflow\")\n",
    "drn.addQuantity(ouf)\n",
    "sys = CausalModel(\"System\", [tap, sink, drn])\n",
    "sys.addRel(inf,'i+', vol)\n",
    "sys.addRel(ouf, 'i-', vol)\n",
    "sys.addRel(ouf, 'p-', inf)\n",
    "sys.addRel(ouf, 'i-', vol)\n",
    "sys.rels"
   ]
  },
  {
   "cell_type": "code",
   "execution_count": null,
   "metadata": {
    "collapsed": true
   },
   "outputs": [],
   "source": []
  }
 ],
 "metadata": {
  "kernelspec": {
   "display_name": "Python 3",
   "language": "python",
   "name": "python3"
  },
  "language_info": {
   "codemirror_mode": {
    "name": "ipython",
    "version": 3
   },
   "file_extension": ".py",
   "mimetype": "text/x-python",
   "name": "python",
   "nbconvert_exporter": "python",
   "pygments_lexer": "ipython3",
   "version": "3.4.4"
  }
 },
 "nbformat": 4,
 "nbformat_minor": 0
}
