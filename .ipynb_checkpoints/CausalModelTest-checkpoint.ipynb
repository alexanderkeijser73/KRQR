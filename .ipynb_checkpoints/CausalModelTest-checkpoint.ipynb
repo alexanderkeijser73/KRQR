{
 "cells": [
  {
   "cell_type": "code",
   "execution_count": 3,
   "metadata": {
    "collapsed": false
   },
   "outputs": [
    {
     "data": {
      "text/plain": [
       "[('Inflow', 1, 1), ('Outflow', 1, 0), ('Volume', 1, -1)]"
      ]
     },
     "execution_count": 3,
     "metadata": {},
     "output_type": "execute_result"
    }
   ],
   "source": [
    "from CausalModel import *\n",
    "\n",
    "tap = Entity(\"Tap\")\n",
    "inf = Quantity(\"Inflow\", 'zp')\n",
    "tap.addQuantity(inf)\n",
    "sink = Entity(\"Sink\")\n",
    "ouf = Quantity(\"Outflow\")\n",
    "sink.addQuantity(ouf)\n",
    "cont = Entity(\"Container\")\n",
    "vol = Quantity(\"Volume\")\n",
    "cont.addQuantity(vol)\n",
    "sys = CausalModel(\"System\", [tap, sink, cont])\n",
    "sys.addRel(inf,'i+', vol)\n",
    "sys.addRel(ouf, 'i-', vol)\n",
    "sys.addRel(vol, 'p-', ouf)\n",
    "sys.addVC(vol,0,ouf,1)\n",
    "sys.setState([(inf,1,1), (ouf,1,0), (vol,1,-1)])\n",
    "sys.getState()"
   ]
  },
  {
   "cell_type": "code",
   "execution_count": null,
   "metadata": {
    "collapsed": true
   },
   "outputs": [],
   "source": []
  }
 ],
 "metadata": {
  "kernelspec": {
   "display_name": "Python 3",
   "language": "python",
   "name": "python3"
  },
  "language_info": {
   "codemirror_mode": {
    "name": "ipython",
    "version": 3
   },
   "file_extension": ".py",
   "mimetype": "text/x-python",
   "name": "python",
   "nbconvert_exporter": "python",
   "pygments_lexer": "ipython3",
   "version": "3.4.4"
  }
 },
 "nbformat": 4,
 "nbformat_minor": 0
}
