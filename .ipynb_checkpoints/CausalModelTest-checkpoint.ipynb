{
 "cells": [
  {
   "cell_type": "code",
   "execution_count": 1,
   "metadata": {
    "collapsed": false
   },
   "outputs": [
    {
     "name": "stdout",
     "output_type": "stream",
     "text": [
      "0 -------------------------------------------\n",
      "start state:  [('Inflow', 1, 0), ('Volume', 0, 0), ('Outflow', 0, 0)]\n",
      "Inflow\n",
      "nextValues: [1]\n",
      "nextDelta: 0\n",
      "\n",
      "Volume\n",
      "nextValues: [0]\n",
      "nextDelta: 1\n",
      "\n",
      "Outflow\n",
      "nextValues: [0]\n",
      "nextDelta: 0\n",
      "\n",
      "1 -------------------------------------------\n",
      "start state:  [('Inflow', 1, 0), ('Volume', 0, 1), ('Outflow', 0, 0)]\n",
      "Inflow\n",
      "nextValues: [1]\n",
      "nextDelta: 0\n",
      "\n",
      "Volume\n",
      "nextValues: [0, 1]\n",
      "nextDelta: 1\n",
      "\n",
      "Outflow\n",
      "nextValues: [0]\n",
      "nextDelta: 0\n",
      "\n",
      "shape of tree:  (1, 3, 3)\n",
      "Branch 1:\n",
      "state 1: [('Inflow', 1, 0), ('Volume', 0, 0), ('Outflow', 0, 0)]\n",
      "state 2: [('Inflow', 1, 0), ('Volume', 0, 1), ('Outflow', 0, 0)]\n",
      "state 3: [('Inflow', 1, 0), ('Volume', 0, 1), ('Outflow', 0, 0)]\n"
     ]
    }
   ],
   "source": [
    "from CausalModel import *\n",
    "from copy import deepcopy\n",
    "import numpy as np\n",
    "\n",
    "\"\"\"Set entities and quantities\"\"\"\n",
    "tap = Entity(\"Tap\")\n",
    "inf = Quantity(\"Inflow\", 'zp')\n",
    "tap.addQuantity(inf)\n",
    "cont = Entity(\"Container\")\n",
    "vol = Quantity(\"Volume\")\n",
    "cont.addQuantity(vol)\n",
    "sink = Entity(\"Sink\")\n",
    "ouf = Quantity(\"Outflow\")\n",
    "sink.addQuantity(ouf)\n",
    "\n",
    "\"\"\"Set system and its relations\"\"\"\n",
    "sys = CausalModel(\"System\", [tap, cont, sink])\n",
    "sys.addRel(inf,'i+', vol)\n",
    "sys.addRel(ouf, 'i-', vol)\n",
    "sys.addRel(vol, 'p+', ouf)\n",
    "sys.addVC(vol,0,ouf,0)\n",
    "sys.addVC(vol,2,ouf,2)\n",
    "\n",
    "\"\"\"Set state and generate other states\"\"\"\n",
    "sys.setState([(inf,1,0), (vol,0,0), (ouf,0,0)])\n",
    "init_state = sys.getState()\n",
    "state_tree = sys.generateStates(init_state)\n",
    "\n",
    "\"\"\"Print the branches:\"\"\"\n",
    "print(\"shape of tree: \", np.array(state_tree).shape)\n",
    "counter1 = 0\n",
    "for branch in state_tree:\n",
    "    counter1 +=1\n",
    "    print(\"Branch %s:\" %counter1)\n",
    "    counter2 = 0\n",
    "    for state in branch:\n",
    "        counter2 +=1\n",
    "        print(\"state %s:\" %counter2, [(qt.name,qt.val,qt.delta) for qt in state])\n"
   ]
  }
 ],
 "metadata": {
  "kernelspec": {
   "display_name": "Python 3",
   "language": "python",
   "name": "python3"
  },
  "language_info": {
   "codemirror_mode": {
    "name": "ipython",
    "version": 3
   },
   "file_extension": ".py",
   "mimetype": "text/x-python",
   "name": "python",
   "nbconvert_exporter": "python",
   "pygments_lexer": "ipython3",
   "version": "3.6.2"
  }
 },
 "nbformat": 4,
 "nbformat_minor": 0
}
