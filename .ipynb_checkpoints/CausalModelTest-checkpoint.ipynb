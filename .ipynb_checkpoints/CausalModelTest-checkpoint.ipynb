{
 "cells": [
  {
   "cell_type": "code",
   "execution_count": 1,
   "metadata": {
    "collapsed": false
   },
   "outputs": [
    {
     "name": "stdout",
     "output_type": "stream",
     "text": [
      "0 -------------------------------------------\n",
      "1 -------------------------------------------\n",
      "2 -------------------------------------------\n",
      "3 -------------------------------------------\n",
      "4 -------------------------------------------\n",
      "5 -------------------------------------------\n",
      "6 -------------------------------------------\n",
      "7 -------------------------------------------\n",
      "8 -------------------------------------------\n",
      "9 -------------------------------------------\n",
      "shape of tree:  (1, 11, 3)\n",
      "Branch 1:\n",
      "state 1: [('Inflow', 1, 0), ('Volume', 0, 1), ('Outflow', 0, 1)]\n",
      "state 2: [('Inflow', 1, 0), ('Volume', 1, 1), ('Outflow', 1, 1)]\n",
      "state 3: [('Inflow', 1, 0), ('Volume', 2, 0), ('Outflow', 2, 0)]\n",
      "state 4: [('Inflow', 1, 0), ('Volume', 2, 0), ('Outflow', 2, 0)]\n",
      "state 5: [('Inflow', 1, 0), ('Volume', 2, 0), ('Outflow', 2, 0)]\n",
      "state 6: [('Inflow', 1, 0), ('Volume', 2, 0), ('Outflow', 2, 0)]\n",
      "state 7: [('Inflow', 1, 0), ('Volume', 2, 0), ('Outflow', 2, 0)]\n",
      "state 8: [('Inflow', 1, 0), ('Volume', 2, 0), ('Outflow', 2, 0)]\n",
      "state 9: [('Inflow', 1, 0), ('Volume', 2, 0), ('Outflow', 2, 0)]\n",
      "state 10: [('Inflow', 1, 0), ('Volume', 2, 0), ('Outflow', 2, 0)]\n",
      "state 11: [('Inflow', 1, 0), ('Volume', 2, 1), ('Outflow', 2, 1)]\n"
     ]
    }
   ],
   "source": [
    "from CausalModel import *\n",
    "from copy import deepcopy\n",
    "import numpy as np\n",
    "\n",
    "    # to do:\n",
    "    # 0. fix dat hij goed in die list gezet wordt (zie frustratie in file)\n",
    "    # 1.gaan alle epsilon en continue dingen goed\n",
    "    # 2.zeker weten?\n",
    "    # 3.graph printen\n",
    "    # 4.hoogte en pressure quantity toevoegen\n",
    "\n",
    "\n",
    "\"\"\"Set entities and quantities\"\"\"\n",
    "# voeg extra quantities hoogte en pressure\n",
    "tap = Entity(\"Tap\")\n",
    "inf = Quantity(\"Inflow\", 'zp')\n",
    "tap.addQuantity(inf)\n",
    "cont = Entity(\"Container\")\n",
    "vol = Quantity(\"Volume\")\n",
    "cont.addQuantity(vol)\n",
    "sink = Entity(\"Sink\")\n",
    "ouf = Quantity(\"Outflow\")\n",
    "sink.addQuantity(ouf)\n",
    "\n",
    "\"\"\"Set system and its relations\"\"\"\n",
    "sys = CausalModel(\"System\", [tap, cont, sink])\n",
    "sys.addRel(inf,'i+', vol)\n",
    "sys.addRel(ouf, 'i-', vol)\n",
    "sys.addRel(vol, 'p+', ouf)\n",
    "sys.addVC(vol,0,ouf,0)\n",
    "sys.addVC(vol,2,ouf,2)\n",
    "\n",
    "\"\"\"Set state and generate other states\"\"\"\n",
    "sys.setState([(inf,1,0), (vol,0,1), (ouf,0,1)])\n",
    "init_state = sys.getState()\n",
    "state_tree = sys.generateStates(init_state)\n",
    "\n",
    "\"\"\"Print the branches:\"\"\"\n",
    "print(\"shape of tree: \", np.array(state_tree).shape)\n",
    "counter1 = 0\n",
    "for branch in state_tree:\n",
    "    counter1 +=1\n",
    "    print(\"Branch %s:\" %counter1)\n",
    "    counter2 = 0\n",
    "    for state in branch:\n",
    "        counter2 +=1\n",
    "        print(\"state %s:\" %counter2, [(qt.name,qt.val,qt.delta) for qt in state])\n",
    "        \n",
    "\n"
   ]
  },
  {
   "cell_type": "code",
   "execution_count": null,
   "metadata": {
    "collapsed": false
   },
   "outputs": [],
   "source": [
    "    \n",
    "\"\"\"\n",
    "    def getNextValues(self):\n",
    "        if self.delta == -1:      #check if derivative is negative\n",
    "            if self.decreaseValue():\n",
    "                posvals = [self.val, self.val-1]\n",
    "            else:\n",
    "                #CHECK OF DIT HOORT\n",
    "                self.setDelta(0)\n",
    "                posvals = [self.val]\n",
    "        elif self.delta == 0:    #check if derivative is zero\n",
    "            posvals = [self.val]\n",
    "        else:\n",
    "            if self.increaseValue():\n",
    "                posvals = [self.val, self.val+1]\n",
    "            else:\n",
    "                #CHECK OF DIT HOORT\n",
    "                self.setDelta(0)\n",
    "                posvals = [self.val]\n",
    "        return posvals\n",
    "\"\"\""
   ]
  },
  {
   "cell_type": "code",
   "execution_count": null,
   "metadata": {
    "collapsed": false
   },
   "outputs": [],
   "source": []
  },
  {
   "cell_type": "code",
   "execution_count": null,
   "metadata": {
    "collapsed": true
   },
   "outputs": [],
   "source": []
  }
 ],
 "metadata": {
  "kernelspec": {
   "display_name": "Python 3",
   "language": "python",
   "name": "python3"
  },
  "language_info": {
   "codemirror_mode": {
    "name": "ipython",
    "version": 3
   },
   "file_extension": ".py",
   "mimetype": "text/x-python",
   "name": "python",
   "nbconvert_exporter": "python",
   "pygments_lexer": "ipython3",
   "version": "3.6.2"
  }
 },
 "nbformat": 4,
 "nbformat_minor": 0
}
