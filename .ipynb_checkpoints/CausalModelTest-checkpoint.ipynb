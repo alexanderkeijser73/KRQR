{
 "cells": [
  {
   "cell_type": "code",
   "execution_count": 1,
   "metadata": {
    "collapsed": false
   },
   "outputs": [
    {
     "name": "stdout",
     "output_type": "stream",
     "text": [
      "0 -------------------------------------------\n",
      "start state:  [('Inflow', 1, 0), ('Outflow', 0, 0), ('Volume', 0, 0)]\n",
      "Inflow\n",
      "nextValues: [1]\n",
      "nextDelta: 0\n",
      "\n",
      "Outflow\n",
      "nextValues: [0]\n",
      "nextDelta: 0\n",
      "\n",
      "Volume\n",
      "nextValues: [0]\n",
      "nextDelta: 1\n",
      "\n",
      "1 -------------------------------------------\n",
      "start state:  [('Inflow', 1, 0), ('Outflow', 0, 0), ('Volume', 0, 1)]\n",
      "Inflow\n",
      "nextValues: [1]\n",
      "nextDelta: 0\n",
      "\n",
      "Outflow\n",
      "nextValues: [0]\n",
      "nextDelta: 0\n",
      "\n",
      "Volume\n",
      "nextValues: [0, 1]\n",
      "nextDelta: 1\n",
      "\n",
      "(1, 3, 3)\n",
      "Branch:\n",
      "state:\n",
      "[('Inflow', 1, 0), ('Outflow', 0, 0), ('Volume', 0, 0)]\n",
      "state:\n",
      "[('Inflow', 1, 0), ('Outflow', 0, 0), ('Volume', 0, 1)]\n",
      "state:\n",
      "[('Inflow', 1, 0), ('Outflow', 0, 0), ('Volume', 0, 1)]\n"
     ]
    }
   ],
   "source": [
    "from CausalModel import *\n",
    "from copy import deepcopy\n",
    "import numpy as np\n",
    "\n",
    "\n",
    "\n",
    "tap = Entity(\"Tap\")\n",
    "inf = Quantity(\"Inflow\", 'zp')\n",
    "tap.addQuantity(inf)\n",
    "sink = Entity(\"Sink\")\n",
    "ouf = Quantity(\"Outflow\")\n",
    "sink.addQuantity(ouf)\n",
    "cont = Entity(\"Container\")\n",
    "vol = Quantity(\"Volume\")\n",
    "cont.addQuantity(vol)\n",
    "sys = CausalModel(\"System\", [tap, sink, cont])\n",
    "sys.addRel(inf,'i+', vol)\n",
    "sys.addRel(ouf, 'i-', vol)\n",
    "sys.addRel(vol, 'p+', ouf)\n",
    "sys.addVC(vol,0,ouf,0)\n",
    "sys.addVC(vol,2,ouf,2)\n",
    "sys.setState([(inf,1,0), (ouf,0,0), (vol,0,1)])\n",
    "init_state = sys.getState()\n",
    "state_tree = sys.generateStates(init_state)\n",
    "print(np.array(state_tree).shape)\n",
    "for branch in state_tree:\n",
    "    print(\"Branch:\")\n",
    "    for state in branch:\n",
    "        print(\"state:\", [(qt.name,qt.val,qt.delta) for qt in state])\n"
   ]
  },
  {
   "cell_type": "code",
   "execution_count": null,
   "metadata": {
    "collapsed": false
   },
   "outputs": [],
   "source": [
    "print(vol.val)\n",
    "# vol_new.increaseValue()"
   ]
  },
  {
   "cell_type": "code",
   "execution_count": null,
   "metadata": {
    "collapsed": true
   },
   "outputs": [],
   "source": []
  },
  {
   "cell_type": "code",
   "execution_count": null,
   "metadata": {
    "collapsed": true
   },
   "outputs": [],
   "source": []
  }
 ],
 "metadata": {
  "kernelspec": {
   "display_name": "Python 3",
   "language": "python",
   "name": "python3"
  },
  "language_info": {
   "codemirror_mode": {
    "name": "ipython",
    "version": 3
   },
   "file_extension": ".py",
   "mimetype": "text/x-python",
   "name": "python",
   "nbconvert_exporter": "python",
   "pygments_lexer": "ipython3",
   "version": "3.6.2"
  }
 },
 "nbformat": 4,
 "nbformat_minor": 0
}
